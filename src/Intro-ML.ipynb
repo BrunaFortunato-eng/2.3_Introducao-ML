{
 "cells": [
  {
   "cell_type": "code",
   "execution_count": 67,
   "metadata": {},
   "outputs": [],
   "source": [
    "import pandas as pd\n",
    "\n",
    "import numpy as np\n",
    "\n",
    "import matplotlib.pyplot as plt\n",
    "\n",
    "#Scikit- Learn\n",
    "from sklearn import preprocessing\n",
    "from sklearn.preprocessing import MinMaxScaler\n",
    "from sklearn.preprocessing import MaxAbsScaler\n",
    "from sklearn.preprocessing import StandardScaler\n",
    "from sklearn.preprocessing import Binarizer\n",
    "from sklearn.preprocessing import Normalizer\n",
    "\n",
    "from sklearn.datasets import load_iris\n",
    "from sklearn.model_selection import train_test_split\n",
    "\n",
    "#imputer\n",
    "from sklearn.impute import SimpleImputer"
   ]
  },
  {
   "cell_type": "code",
   "execution_count": 68,
   "metadata": {},
   "outputs": [
    {
     "name": "stdout",
     "output_type": "stream",
     "text": [
      "   HEIGHT  GENDER\n",
      "0    56.0  Female\n",
      "1    57.0  Female\n",
      "2    58.0  Female\n",
      "3    60.0  Female\n",
      "4    60.0  Female\n",
      "   Pregnancies  Glucose  BloodPressure  SkinThickness  Insulin   BMI  \\\n",
      "0            6      148             72             35        0  33.6   \n",
      "1            1       85             66             29        0  26.6   \n",
      "2            8      183             64              0        0  23.3   \n",
      "3            1       89             66             23       94  28.1   \n",
      "4            0      137             40             35      168  43.1   \n",
      "\n",
      "   DiabetesPedigreeFunction  Age  Class  \n",
      "0                     0.627   50      1  \n",
      "1                     0.351   31      0  \n",
      "2                     0.672   32      1  \n",
      "3                     0.167   21      0  \n",
      "4                     2.288   33      1  \n",
      "   Unnamed: 0  Murder  Assault  UrbanPop  Rape\n",
      "0     Alabama    13.2      236        58  21.2\n",
      "1      Alaska    10.0      263        48  44.5\n",
      "2     Arizona     8.1      294        80  31.0\n",
      "3    Arkansas     8.8      190        50  19.5\n",
      "4  California     9.0      276        91  40.6\n",
      "         Date  Births\n",
      "0  1959-01-01      35\n",
      "1  1959-01-02      32\n",
      "2  1959-01-03      30\n",
      "3  1959-01-04      31\n",
      "4  1959-01-05      44\n",
      "                     Unnamed: 0 Private  Apps  Accept  Enroll  Top10perc  \\\n",
      "0  Abilene Christian University     Yes  1660    1232     721         23   \n",
      "1            Adelphi University     Yes  2186    1924     512         16   \n",
      "2                Adrian College     Yes  1428    1097     336         22   \n",
      "3           Agnes Scott College     Yes   417     349     137         60   \n",
      "4     Alaska Pacific University     Yes   193     146      55         16   \n",
      "\n",
      "   Top25perc  F.Undergrad  P.Undergrad  Outstate  Room.Board  Books  Personal  \\\n",
      "0         52         2885          537      7440        3300    450      2200   \n",
      "1         29         2683         1227     12280        6450    750      1500   \n",
      "2         50         1036           99     11250        3750    400      1165   \n",
      "3         89          510           63     12960        5450    450       875   \n",
      "4         44          249          869      7560        4120    800      1500   \n",
      "\n",
      "   PhD  Terminal  S.F.Ratio  perc.alumni  Expend  Grad.Rate  \n",
      "0   70        78       18.1           12    7041         60  \n",
      "1   29        30       12.2           16   10527         56  \n",
      "2   53        66       12.9           30    8735         54  \n",
      "3   92        97        7.7           37   19016         59  \n",
      "4   76        72       11.9            2   10922         15  \n",
      "    mpg  cylinders  displacement horsepower  weight  acceleration  year  \\\n",
      "0  18.0          8         307.0        130    3504          12.0    70   \n",
      "1  15.0          8         350.0        165    3693          11.5    70   \n",
      "2  18.0          8         318.0        150    3436          11.0    70   \n",
      "3  16.0          8         304.0        150    3433          12.0    70   \n",
      "4  17.0          8         302.0        140    3449          10.5    70   \n",
      "\n",
      "   origin                       name  \n",
      "0       1  chevrolet chevelle malibu  \n",
      "1       1          buick skylark 320  \n",
      "2       1         plymouth satellite  \n",
      "3       1              amc rebel sst  \n",
      "4       1                ford torino  \n"
     ]
    }
   ],
   "source": [
    "height = pd.read_csv('heights.csv')\n",
    "print(height.head())\n",
    "\n",
    "diabete = pd.read_csv('pima-indians-diabetes.data.csv')\n",
    "print(diabete.head())\n",
    "\n",
    "usaarrests = pd.read_csv('USArrests.csv')\n",
    "print(usaarrests.head())\n",
    "\n",
    "births = pd.read_csv('daily-total-female-births.csv')\n",
    "print(births.head())\n",
    "\n",
    "College = pd.read_csv('College.csv')\n",
    "print(College.head())\n",
    "\n",
    "Auto = pd.read_csv('Auto.csv')\n",
    "print(Auto.head())"
   ]
  },
  {
   "cell_type": "markdown",
   "metadata": {},
   "source": [
    "## Selecionando colunas de características e coluna alvo\n",
    "## Para a base usaarrests queremos predizer murder com base em urbanpop e assault"
   ]
  },
  {
   "cell_type": "code",
   "execution_count": 69,
   "metadata": {},
   "outputs": [
    {
     "name": "stdout",
     "output_type": "stream",
     "text": [
      "(50, 1)\n",
      "(50, 2)\n"
     ]
    }
   ],
   "source": [
    "#coluna alvo\n",
    "y = usaarrests[['Murder']] \n",
    "\n",
    "#colunas de características\n",
    "X = usaarrests[['Assault','UrbanPop']]\n",
    "\n",
    "print(y.shape)\n",
    "print(X.shape)"
   ]
  },
  {
   "cell_type": "markdown",
   "metadata": {},
   "source": [
    "## Dividindo a base em treino e teste\n",
    "### train_test_split"
   ]
  },
  {
   "cell_type": "code",
   "execution_count": 70,
   "metadata": {},
   "outputs": [
    {
     "name": "stdout",
     "output_type": "stream",
     "text": [
      "X  (45, 2) (5, 2)  y  (45, 1) (5, 1)\n",
      "    Assault  UrbanPop\n",
      "31      254        86\n",
      "8       335        80\n",
      "21      255        74\n",
      "6       110        77\n",
      "38      174        87\n",
      "    Murder\n",
      "40     3.8\n",
      "49     6.8\n",
      "39    14.4\n",
      "45     8.5\n",
      "36     4.9\n"
     ]
    }
   ],
   "source": [
    "from sklearn.model_selection import train_test_split\n",
    "\n",
    "X_train, X_test = train_test_split(X, test_size=0.1, shuffle=True) \n",
    "y_train, y_test = train_test_split(y, test_size=0.1, shuffle=True) \n",
    "#X_train, X_test, y_train, y_test = train_test_split(X, y, test_size=0.2) \n",
    "\n",
    "print(\"X \",X_train.shape, X_test.shape, \" y \", y_train.shape, y_test.shape)\n",
    "print(X_train.head())\n",
    "print(y_train.head())"
   ]
  },
  {
   "cell_type": "code",
   "execution_count": 71,
   "metadata": {},
   "outputs": [],
   "source": [
    "from sklearn.model_selection import train_test_split\n",
    "\n",
    "train_set, test_set = train_test_split(diabete, test_size=0.2, shuffle=True)"
   ]
  },
  {
   "cell_type": "code",
   "execution_count": 72,
   "metadata": {},
   "outputs": [
    {
     "data": {
      "text/plain": [
       "<matplotlib.axes._subplots.AxesSubplot at 0x7fb75abd1ad0>"
      ]
     },
     "execution_count": 72,
     "metadata": {},
     "output_type": "execute_result"
    },
    {
     "data": {
      "image/png": "[encoded data removed]",
      "text/plain": [
       "<Figure size 432x288 with 1 Axes>"
      ]
     },
     "metadata": {
      "needs_background": "light"
     },
     "output_type": "display_data"
    }
   ],
   "source": [
    "#strat_train_set['Class'].value_counts().plot(kind='bar')\n",
    "train_set['Class'].value_counts().plot(kind='bar')"
   ]
  },
  {
   "cell_type": "code",
   "execution_count": 73,
   "metadata": {},
   "outputs": [
    {
     "data": {
      "text/plain": [
       "<matplotlib.axes._subplots.AxesSubplot at 0x7fb75a9d38d0>"
      ]
     },
     "execution_count": 73,
     "metadata": {},
     "output_type": "execute_result"
    },
    {
     "data": {
      "image/png": "[encoded data removed]",
      "text/plain": [
       "<Figure size 432x288 with 1 Axes>"
      ]
     },
     "metadata": {
      "needs_background": "light"
     },
     "output_type": "display_data"
    }
   ],
   "source": [
    "#strat_test_set['Class'].value_counts().plot(kind='bar')\n",
    "test_set['Class'].value_counts().plot(kind='bar')"
   ]
  },
  {
   "cell_type": "markdown",
   "metadata": {},
   "source": [
    "## Representando imagens como arrays"
   ]
  },
  {
   "cell_type": "code",
   "execution_count": 75,
   "metadata": {},
   "outputs": [
    {
     "name": "stdout",
     "output_type": "stream",
     "text": [
      "(1797, 64)\n",
      "[[ 0.  0.  5. ...  0.  0.  0.]\n",
      " [ 0.  0.  0. ... 10.  0.  0.]\n",
      " [ 0.  0.  0. ... 16.  9.  0.]\n",
      " ...\n",
      " [ 0.  0.  1. ...  6.  0.  0.]\n",
      " [ 0.  0.  2. ... 12.  0.  0.]\n",
      " [ 0.  0. 10. ... 12.  1.  0.]]\n"
     ]
    }
   ],
   "source": [
    "from sklearn import datasets\n",
    "\n",
    "digits = datasets.load_digits()\n",
    "\n",
    "print(digits.data.shape)\n",
    "print(digits.data)"
   ]
  },
  {
   "cell_type": "markdown",
   "metadata": {},
   "source": [
    "## Encoder\n",
    "### Codificando dados categoricos em números"
   ]
  },
  {
   "cell_type": "code",
   "execution_count": 76,
   "metadata": {},
   "outputs": [
    {
     "name": "stdout",
     "output_type": "stream",
     "text": [
      "[1 1 2 0]\n"
     ]
    }
   ],
   "source": [
    "# Objeto Labelencoder\n",
    "le = preprocessing.LabelEncoder()\n",
    "\n",
    "#convert categoricas para números\n",
    "encoded_value = le.fit_transform([\"paris\", \"paris\", \"tokyo\", \"amsterdam\"])\n",
    "print(encoded_value)"
   ]
  },
  {
   "cell_type": "code",
   "execution_count": 77,
   "metadata": {},
   "outputs": [
    {
     "name": "stdout",
     "output_type": "stream",
     "text": [
      "Index(['HEIGHT', 'GENDER'], dtype='object')\n",
      "0      Female\n",
      "1      Female\n",
      "2      Female\n",
      "3      Female\n",
      "4      Female\n",
      "        ...  \n",
      "374      Male\n",
      "375      Male\n",
      "376      Male\n",
      "377      Male\n",
      "378      Male\n",
      "Name: GENDER, Length: 379, dtype: object\n",
      "0      0\n",
      "1      0\n",
      "2      0\n",
      "3      0\n",
      "4      0\n",
      "      ..\n",
      "374    1\n",
      "375    1\n",
      "376    1\n",
      "377    1\n",
      "378    1\n",
      "Name: GENDER-cat, Length: 379, dtype: int64\n",
      "           HEIGHT  GENDER-cat\n",
      "count  379.000000  379.000000\n",
      "mean    67.097625    0.308707\n",
      "std      4.120502    0.462571\n",
      "min     56.000000    0.000000\n",
      "25%     64.000000    0.000000\n",
      "50%     67.000000    0.000000\n",
      "75%     70.000000    1.000000\n",
      "max     92.000000    1.000000\n"
     ]
    }
   ],
   "source": [
    "print(height.columns)\n",
    "height['GENDER-cat']=le.fit_transform(height['GENDER'])\n",
    "\n",
    "print(height['GENDER'])\n",
    "print(height['GENDER-cat'])\n",
    "print(height.describe())"
   ]
  },
  {
   "cell_type": "code",
   "execution_count": null,
   "metadata": {},
   "outputs": [],
   "source": []
  },
  {
   "cell_type": "markdown",
   "metadata": {},
   "source": [
    "## Scaling\n",
    "\n",
    "### Mudando Escala de Valores\n",
    "### Padronizar a escala minimiza potenciais problemas relacionados com diferença de grandezas entre valoes\n",
    "#### Exemplo: peso e altura"
   ]
  },
  {
   "cell_type": "markdown",
   "metadata": {},
   "source": [
    "### Min Max: define um range para que os dados sejam re-escalonados"
   ]
  },
  {
   "cell_type": "code",
   "execution_count": 78,
   "metadata": {},
   "outputs": [
    {
     "name": "stdout",
     "output_type": "stream",
     "text": [
      "[[-1.00e+00 -1.00e+00]\n",
      " [-9.82e-01 -1.43e-01]\n",
      " [-6.32e-01 -7.14e-01]\n",
      " [-9.45e-01  2.22e-16]\n",
      " [-2.63e-01 -1.00e+00]\n",
      " [ 2.22e-16 -7.14e-01]\n",
      " [-6.32e-01 -2.86e-02]]\n"
     ]
    }
   ],
   "source": [
    "# data values\n",
    "X = [ [110, 200], [120, 800], [310, 400], [140, 900], [510, 200], [653, 400] ,[310, 880] ]\n",
    "\n",
    "# transform data\n",
    "scaler = MinMaxScaler(feature_range=(-1, 0))\n",
    "rescaledX = scaler.fit_transform(X)\n",
    "\n",
    "# summarize transformed data\n",
    "np.set_printoptions(precision=2)\n",
    "print(rescaledX)\n",
    "#print(rescaledX[0:6,:])"
   ]
  },
  {
   "cell_type": "markdown",
   "metadata": {},
   "source": [
    "### Standandard: range de valores é definida com base no intervalo da base"
   ]
  },
  {
   "cell_type": "code",
   "execution_count": 79,
   "metadata": {},
   "outputs": [
    {
     "name": "stdout",
     "output_type": "stream",
     "text": [
      "[[-1.02  -1.178]\n",
      " [-0.968  0.901]\n",
      " [ 0.013 -0.485]\n",
      " [-0.865  1.247]\n",
      " [ 1.045 -1.178]\n",
      " [ 1.783 -0.485]]\n"
     ]
    }
   ],
   "source": [
    "# data values\n",
    "X = [ [110, 200], [120, 800], [310, 400], [140, 900], [510, 200], [653, 400] ,[310, 880] ]\n",
    "\n",
    "# scaler\n",
    "scaler = StandardScaler().fit(X)\n",
    "rescaledX = scaler.transform(X)\n",
    "\n",
    "# summarize transformed data\n",
    "np.set_printoptions(precision=3)\n",
    "print(rescaledX[0:6,:])"
   ]
  },
  {
   "cell_type": "markdown",
   "metadata": {},
   "source": [
    "## Visualizando mudança de escala"
   ]
  },
  {
   "cell_type": "code",
   "execution_count": 84,
   "metadata": {},
   "outputs": [
    {
     "name": "stdout",
     "output_type": "stream",
     "text": [
      "<class 'numpy.ndarray'>\n",
      "1.2588099793049041\n",
      "1.1058277369805274\n",
      "1.4117922216292809\n",
      "0.15298224232437674\n",
      "165.13333333333333\n",
      "45\n",
      "335\n",
      "81.27020028611629\n"
     ]
    },
    {
     "data": {
      "image/png": "[encoded data removed]",
      "text/plain": [
       "<Figure size 432x288 with 2 Axes>"
      ]
     },
     "metadata": {
      "needs_background": "light"
     },
     "output_type": "display_data"
    }
   ],
   "source": [
    "# transform data\n",
    "scaler = StandardScaler().fit(y_train)\n",
    "#scaler = Normalizer().fit(y_train)\n",
    "#scaler = MinMaxScaler(feature_range=(0, 1))\n",
    "#scaler = MaxAbsScaler(y_train)\n",
    "\n",
    "#rescaledX = scaler.fit_transform(X_train)\n",
    "rescaledy = scaler.fit_transform(y_train)\n",
    "\n",
    "print(type(rescaledX))\n",
    "print(rescaledX[0].mean())\n",
    "print(rescaledX[0].min())\n",
    "print(rescaledX[0].max())\n",
    "print(rescaledX[0].std())\n",
    "\n",
    "print(X_train['Assault'].mean())\n",
    "print(X_train['Assault'].min())\n",
    "print(X_train['Assault'].max())\n",
    "print(X_train['Assault'].std())\n",
    "\n",
    "fig, ax_lst = plt.subplots(2, 1)\n",
    "\n",
    "plt.ylabel('Frequência da Distribuição')\n",
    "\n",
    "ax_lst[0].hist(rescaledy, 10 )\n",
    "ax_lst[1].hist(y_train['Murder'], 10 )\n",
    "\n",
    "\n",
    "plt.show()"
   ]
  },
  {
   "cell_type": "code",
   "execution_count": 92,
   "metadata": {},
   "outputs": [
    {
     "data": {
      "image/png": "[encoded data removed]",
      "text/plain": [
       "<Figure size 432x288 with 2 Axes>"
      ]
     },
     "metadata": {
      "needs_background": "light"
     },
     "output_type": "display_data"
    }
   ],
   "source": [
    "# transform data\n",
    "#scaler = StandardScaler().fit(X_train)\n",
    "#scaler = Normalizer().fit(y_train)\n",
    "scaler = MinMaxScaler(feature_range=(-1, 1))\n",
    "#scaler = MaxAbsScaler(y_train)\n",
    "\n",
    "rescaledX = scaler.fit_transform(X_train)\n",
    "\n",
    "\n",
    "fig, ax_lst = plt.subplots(2, 1)\n",
    "\n",
    "plt.ylabel('Frequência da Distribuição')\n",
    "\n",
    "ax_lst[0].hist(rescaledX[1:], 50 )\n",
    "ax_lst[1].hist(X_train[1:], 50 )\n",
    "\n",
    "\n",
    "plt.show()"
   ]
  },
  {
   "cell_type": "markdown",
   "metadata": {},
   "source": [
    "## Imputer\n",
    "\n",
    "### Substitui dados faltantes"
   ]
  },
  {
   "cell_type": "code",
   "execution_count": 17,
   "metadata": {},
   "outputs": [
    {
     "name": "stdout",
     "output_type": "stream",
     "text": [
      "[[4.  2. ]\n",
      " [6.  3.7]\n",
      " [7.  6. ]]\n"
     ]
    }
   ],
   "source": [
    "\n",
    "imp = SimpleImputer(missing_values=np.nan, strategy='mean')\n",
    "imp.fit([[1, 2], [np.nan, 3], [7, 6]])\n",
    "SimpleImputer()\n",
    "X = [[np.nan, 2], [6, np.nan], [7, 6]]\n",
    "print(imp.transform(X))"
   ]
  },
  {
   "cell_type": "code",
   "execution_count": null,
   "metadata": {},
   "outputs": [],
   "source": []
  }
 ],
 "metadata": {
  "kernelspec": {
   "display_name": "Python [conda env:.conda-trackml6]",
   "language": "python",
   "name": "conda-env-.conda-trackml6-py"
  },
  "language_info": {
   "codemirror_mode": {
    "name": "ipython",
    "version": 3
   },
   "file_extension": ".py",
   "mimetype": "text/x-python",
   "name": "python",
   "nbconvert_exporter": "python",
   "pygments_lexer": "ipython3",
   "version": "3.7.4"
  }
 },
 "nbformat": 4,
 "nbformat_minor": 2
}
